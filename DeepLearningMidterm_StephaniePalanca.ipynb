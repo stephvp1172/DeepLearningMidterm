{
  "nbformat": 4,
  "nbformat_minor": 0,
  "metadata": {
    "colab": {
      "private_outputs": true,
      "provenance": [],
      "toc_visible": true,
      "gpuType": "T4",
      "authorship_tag": "ABX9TyNSE52z0BJ+JyTOOizsZrXw",
      "include_colab_link": true
    },
    "kernelspec": {
      "name": "python3",
      "display_name": "Python 3"
    },
    "language_info": {
      "name": "python"
    },
    "accelerator": "GPU"
  },
  "cells": [
    {
      "cell_type": "markdown",
      "metadata": {
        "id": "view-in-github",
        "colab_type": "text"
      },
      "source": [
        "<a href=\"https://colab.research.google.com/github/stephvp1172/DeepLearningMidterm/blob/main/DeepLearningMidterm_StephaniePalanca.ipynb\" target=\"_parent\"><img src=\"https://colab.research.google.com/assets/colab-badge.svg\" alt=\"Open In Colab\"/></a>"
      ]
    },
    {
      "cell_type": "markdown",
      "source": [
        "## Statistical Deep Learning Midterm - Identifying Fashion Pieces using the Fashion MNIST Dataset\n",
        "##### Stephanie Palanca\n",
        "\n",
        "In this midterm submission, I will be creating CNN and ANN models and comparing their performances in identifying fashion pieces from the Fashion MNIST dataset."
      ],
      "metadata": {
        "id": "otccEbuAlKPS"
      }
    },
    {
      "cell_type": "code",
      "execution_count": null,
      "metadata": {
        "id": "CiD4A5tqiGpD"
      },
      "outputs": [],
      "source": [
        "from __future__ import print_function\n",
        "import keras\n",
        "from keras.datasets import cifar10\n",
        "from keras.preprocessing.image import ImageDataGenerator\n",
        "from keras.models import Sequential\n",
        "from keras.utils import to_categorical\n",
        "from keras.layers import Dense, Dropout, Activation, Flatten\n",
        "from keras.layers import Conv2D, MaxPooling2D\n",
        "import os\n",
        "from keras.datasets import fashion_mnist"
      ]
    },
    {
      "cell_type": "markdown",
      "source": [
        "#### Simple Dense Neural Network\n",
        "Using the ReLU activation function, with Data Augmentation, Batch Size of 512, 10 classes, and 20 predictions"
      ],
      "metadata": {
        "id": "C-s_5lEAYat_"
      }
    },
    {
      "cell_type": "code",
      "source": [
        "batch_size = 512\n",
        "num_classes = 10\n",
        "epochs = 30\n",
        "num_predictions = 20\n",
        "save_dir = os.path.join(os.getcwd(), 'saved_models')\n",
        "model_name = 'keras_fashion_mnsit_trained_model.h5'"
      ],
      "metadata": {
        "id": "3oA7Rwn1mO8-"
      },
      "execution_count": null,
      "outputs": []
    },
    {
      "cell_type": "code",
      "source": [
        "#loading dataset\n",
        "(x_train, y_train), (x_test, y_test) = fashion_mnist.load_data()"
      ],
      "metadata": {
        "id": "pUDZyRZ5r1r6"
      },
      "execution_count": null,
      "outputs": []
    },
    {
      "cell_type": "code",
      "source": [
        "#printing training data shape, # of train and test samples\n",
        "print('x_train shape:', x_train.shape)\n",
        "print(x_train.shape[0], 'train samples')\n",
        "print(x_test.shape[0], 'test samples')\n",
        "\n",
        "# Convert class vectors to binary class matrices.\n",
        "y_train = keras.utils.to_categorical(y_train, num_classes)\n",
        "y_test = keras.utils.to_categorical(y_test, num_classes)"
      ],
      "metadata": {
        "id": "pMzAXjuLo7sW"
      },
      "execution_count": null,
      "outputs": []
    },
    {
      "cell_type": "code",
      "source": [
        "#simple dense neural network\n",
        "def simple_dense_model(num_hidden_layer):\n",
        "    model = Sequential()\n",
        "    model.add(Flatten(input_shape=x_train.shape[1:]))\n",
        "\n",
        "    for _ in range(num_hidden_layer):\n",
        "        model.add(Dense(512))\n",
        "        model.add(Activation('relu'))\n",
        "        model.add(Dropout(0.5))\n",
        "\n",
        "    # Output layer with 10 units (for 10 classes)\n",
        "    model.add(Dense(num_classes))\n",
        "    model.add(Activation('softmax'))\n",
        "\n",
        "    return model"
      ],
      "metadata": {
        "id": "m81OwO7XfJKR"
      },
      "execution_count": null,
      "outputs": []
    },
    {
      "cell_type": "code",
      "source": [
        "#Training the CNN\n",
        "\n",
        "#defining model variable\n",
        "model = simple_dense_model(num_hidden_layer=0)\n",
        "\n",
        "#compiling model\n",
        "model.compile(loss='categorical_crossentropy',\n",
        "  optimizer='adam',\n",
        "  metrics=['accuracy'])\n",
        "\n",
        "# Train the model\n",
        "history_dnn = model.fit(x_train, y_train,\n",
        "                        batch_size=batch_size,\n",
        "                        epochs=epochs,\n",
        "                        validation_data=(x_test, y_test),\n",
        "                        shuffle=True)\n",
        "\n",
        "# Train and evaluate dense neural networks with 0-4 hidden layers\n",
        "num_hidden_layers_list = [0, 1, 2, 3, 4]\n",
        "history_dense_models = []\n",
        "\n",
        "for num_hidden_layers in num_hidden_layers_list:\n",
        "    dense_model = simple_dense_model(num_hidden_layers)\n",
        "    dense_model.compile(loss='categorical_crossentropy',\n",
        "                        optimizer='adam',\n",
        "                        metrics=['accuracy'])\n",
        "\n",
        "    history = dense_model.fit(x_train, y_train,\n",
        "                              batch_size=batch_size,\n",
        "                              epochs=epochs,\n",
        "                              validation_data=(x_test, y_test),\n",
        "                              shuffle=True,\n",
        "                              verbose=0)  # Set verbose to 0 to suppress output\n",
        "\n",
        "    history_dense_models.append(history)"
      ],
      "metadata": {
        "id": "HqwRMYsWO5jM"
      },
      "execution_count": null,
      "outputs": []
    },
    {
      "cell_type": "code",
      "source": [
        "if not os.path.isdir(save_dir):\n",
        "    os.makedirs(save_dir)\n",
        "model_path = os.path.join(save_dir, model_name)\n",
        "model.save(model_path)\n",
        "print('Saved trained model at %s ' % model_path)"
      ],
      "metadata": {
        "id": "3mYTtmhrZrFo"
      },
      "execution_count": null,
      "outputs": []
    },
    {
      "cell_type": "code",
      "source": [
        "scores = model.evaluate(x_test, y_test, verbose=1)\n",
        "print('Test loss:', scores[0])\n",
        "print('Test accuracy:', scores[1])"
      ],
      "metadata": {
        "id": "lvPwXaPQZr15"
      },
      "execution_count": null,
      "outputs": []
    },
    {
      "cell_type": "code",
      "source": [
        "#visualizing training accuracy\n",
        "import matplotlib.pyplot as plt\n",
        "\n",
        "plt.figure(figsize=(10, 6))\n",
        "plt.xlabel('Epochs')\n",
        "plt.ylabel('Training Accuracy')\n",
        "plt.title('Training Accuracy Comparison')\n",
        "\n",
        "plt.plot(history_dnn.history['accuracy'], label='Simple Dense Neural Network', linestyle='dashed', marker='o')\n",
        "for i, num_hidden_layers in enumerate(num_hidden_layers_list):\n",
        "    plt.plot(history_dense_models[i].history['accuracy'], label=f'Dense {num_hidden_layers} layers')\n",
        "\n",
        "plt.legend()\n",
        "plt.grid()\n",
        "plt.show()"
      ],
      "metadata": {
        "id": "a_4nCPAnX6iE"
      },
      "execution_count": null,
      "outputs": []
    },
    {
      "cell_type": "code",
      "source": [
        "#visualizing Validation accuracy scores\n",
        "import matplotlib.pyplot as plt\n",
        "\n",
        "plt.figure(figsize=(10, 6))\n",
        "plt.xlabel('Epochs')\n",
        "plt.ylabel('Validation Accuracy')\n",
        "plt.title('Validation Accuracy Comparison')\n",
        "\n",
        "plt.plot(history_dnn.history['val_accuracy'], label='Simple Dense Neural Network', linestyle='dashed', marker='o')\n",
        "for i, num_hidden_layers in enumerate(num_hidden_layers_list):\n",
        "    plt.plot(history_dense_models[i].history['val_accuracy'], label=f'Dense {num_hidden_layers} layers')\n",
        "\n",
        "plt.legend()\n",
        "plt.grid()\n",
        "plt.show()"
      ],
      "metadata": {
        "id": "t5VXsErvJ8Po"
      },
      "execution_count": null,
      "outputs": []
    },
    {
      "cell_type": "code",
      "source": [
        "#Prediction Example\n",
        "\n",
        "#predicting test data\n",
        "predictions = model.predict(x_test)\n",
        "\n",
        "# visualizing prediction for a specific example\n",
        "example_index = 0\n",
        "predicted_probabilities = predictions[example_index]\n",
        "actual_label = y_test[example_index]\n",
        "\n",
        "# Getting predicted class\n",
        "predicted_class = predicted_probabilities.argmax()\n",
        "\n",
        "# Printing Actual class/label and predicted class/label\n",
        "print(f\"Actual Label: {actual_label.argmax()}\")\n",
        "print(f\"Predicted Class: {predicted_class}\")\n",
        "\n",
        "#visualizing the predicted probability for this class\n",
        "import matplotlib.pyplot as plt\n",
        "\n",
        "plt.bar(range(num_classes), predicted_probabilities)\n",
        "plt.xlabel('Class')\n",
        "plt.ylabel('Probability')\n",
        "plt.title('Predicted Class Probabilities')\n",
        "plt.xticks(range(num_classes))\n",
        "plt.show()"
      ],
      "metadata": {
        "id": "O-XvuYYwsTI4"
      },
      "execution_count": null,
      "outputs": []
    },
    {
      "cell_type": "markdown",
      "source": [
        "### Convolutional Neural Network\n",
        "Using the ReLU activation function, with Data Augmentation, Batch Size of 512, 10 classes, and 20 predictions"
      ],
      "metadata": {
        "id": "0wlub01z4aiF"
      }
    },
    {
      "cell_type": "code",
      "source": [
        "from keras.layers import Conv2D, MaxPooling2D\n",
        "\n",
        "(x_train, y_train), (x_test, y_test) = fashion_mnist.load_data()\n",
        "\n",
        "# Ensure that the input data has the shape (batch_size, height, width, channels)\n",
        "x_train = x_train.reshape(x_train.shape[0], 28, 28, 1)\n",
        "x_test = x_test.reshape(x_test.shape[0], 28, 28, 1)\n",
        "\n",
        "# Convert class vectors to binary class matrices.\n",
        "y_train = keras.utils.to_categorical(y_train, num_classes)\n",
        "y_test = keras.utils.to_categorical(y_test, num_classes)"
      ],
      "metadata": {
        "id": "OvLMolBN7kTf"
      },
      "execution_count": null,
      "outputs": []
    },
    {
      "cell_type": "code",
      "source": [
        "#defining cnn model\n",
        "def simple_cnn_model():\n",
        "    model = Sequential()\n",
        "    model.add(Conv2D(32, (3, 3), padding='same', input_shape=x_train.shape[1:]))\n",
        "    model.add(Activation('relu'))\n",
        "    model.add(Conv2D(32, (3, 3)))\n",
        "    model.add(Activation('relu'))\n",
        "    model.add(MaxPooling2D(pool_size=(2, 2)))\n",
        "    model.add(Dropout(0.25))\n",
        "\n",
        "    model.add(Conv2D(64, (3, 3), padding='same'))\n",
        "    model.add(Activation('relu'))\n",
        "    model.add(Conv2D(64, (3, 3)))\n",
        "    model.add(Activation('relu'))\n",
        "    model.add(MaxPooling2D(pool_size=(2, 2)))\n",
        "    model.add(Dropout(0.25))\n",
        "\n",
        "    model.add(Flatten())\n",
        "    model.add(Dense(512))\n",
        "    model.add(Activation('relu'))\n",
        "    model.add(Dropout(0.5))\n",
        "    model.add(Dense(num_classes))\n",
        "    model.add(Activation('softmax'))\n",
        "\n",
        "    return model\n"
      ],
      "metadata": {
        "id": "P8xMjfY-7mI7"
      },
      "execution_count": null,
      "outputs": []
    },
    {
      "cell_type": "code",
      "source": [
        "# Training the CNN\n",
        "model = simple_cnn_model()\n",
        "\n",
        "model.compile(loss='categorical_crossentropy',\n",
        "              optimizer='adam',\n",
        "              metrics=['accuracy'])\n",
        "#fitting cnn\n",
        "history_cnn = model.fit(\n",
        "    x_train,\n",
        "    y_train,\n",
        "    batch_size=batch_size,\n",
        "    epochs=epochs,\n",
        "    validation_data=(x_test, y_test),\n",
        "    shuffle=True\n",
        ")\n"
      ],
      "metadata": {
        "id": "0jyiGbeZ363S"
      },
      "execution_count": null,
      "outputs": []
    },
    {
      "cell_type": "code",
      "source": [
        "if not os.path.isdir(save_dir):\n",
        "    os.makedirs(save_dir)\n",
        "model_path = os.path.join(save_dir, model_name)\n",
        "model.save(model_path)\n",
        "print('Saved trained model at %s ' % model_path)"
      ],
      "metadata": {
        "id": "7UF66iPJ37gR"
      },
      "execution_count": null,
      "outputs": []
    },
    {
      "cell_type": "code",
      "source": [
        "scores = model.evaluate(x_test, y_test, verbose=1)\n",
        "print('Test loss:', scores[0])\n",
        "print('Test accuracy:', scores[1])"
      ],
      "metadata": {
        "id": "d2cWsWXE4oTU"
      },
      "execution_count": null,
      "outputs": []
    },
    {
      "cell_type": "code",
      "source": [
        "#visualizing training accuracy\n",
        "import matplotlib.pyplot as plt\n",
        "\n",
        "plt.figure(figsize=(10, 6))\n",
        "plt.xlabel('Epochs')\n",
        "plt.ylabel('Training Accuracy')\n",
        "plt.title('Training Accuracy Comparison')\n",
        "\n",
        "plt.plot(history_cnn.history['accuracy'], label='CNN', linestyle='dashed', marker='o')\n",
        "for i, num_hidden_layers in enumerate(num_hidden_layers_list):\n",
        "    plt.plot(history_dense_models[i].history['accuracy'], label=f'Dense {num_hidden_layers} layers')\n",
        "\n",
        "plt.legend()\n",
        "plt.grid()\n",
        "plt.show()"
      ],
      "metadata": {
        "id": "fsN9DJTd4q0V"
      },
      "execution_count": null,
      "outputs": []
    },
    {
      "cell_type": "code",
      "source": [
        "#visualizing Validation accuracy scores\n",
        "import matplotlib.pyplot as plt\n",
        "\n",
        "plt.figure(figsize=(10, 6))\n",
        "plt.xlabel('Epochs')\n",
        "plt.ylabel('Validation Accuracy')\n",
        "plt.title('Validation Accuracy Comparison')\n",
        "\n",
        "plt.plot(history_cnn.history['val_accuracy'], label='CNN', linestyle='dashed', marker='o')\n",
        "for i, num_hidden_layers in enumerate(num_hidden_layers_list):\n",
        "    plt.plot(history_dense_models[i].history['val_accuracy'], label=f'Dense {num_hidden_layers} layers')\n",
        "\n",
        "plt.legend()\n",
        "plt.grid()\n",
        "plt.show()"
      ],
      "metadata": {
        "id": "qnk7bcgn4q52"
      },
      "execution_count": null,
      "outputs": []
    },
    {
      "cell_type": "code",
      "source": [
        "#Prediction Example\n",
        "\n",
        "#predicting test data\n",
        "predictions = model.predict(x_test)\n",
        "\n",
        "# visualizing prediction for a specific example\n",
        "predicted_probabilities = predictions[2]\n",
        "actual_label = y_test[2]\n",
        "\n",
        "# Getting predicted class\n",
        "predicted_class = predicted_probabilities.argmax()\n",
        "\n",
        "# Printing Actual class/label and predicted class/label\n",
        "print(f\"Actual Label: {actual_label.argmax()}\")\n",
        "print(f\"Predicted Class: {predicted_class}\")\n",
        "\n",
        "#visualizing the predicted probability for this class\n",
        "import matplotlib.pyplot as plt\n",
        "\n",
        "plt.bar(range(num_classes), predicted_probabilities)\n",
        "plt.xlabel('Class')\n",
        "plt.ylabel('Probability')\n",
        "plt.title('Predicted Class Probabilities (CNN)')\n",
        "plt.xticks(range(num_classes))\n",
        "plt.show()"
      ],
      "metadata": {
        "id": "aT838Rdj4q_a"
      },
      "execution_count": null,
      "outputs": []
    }
  ]
}